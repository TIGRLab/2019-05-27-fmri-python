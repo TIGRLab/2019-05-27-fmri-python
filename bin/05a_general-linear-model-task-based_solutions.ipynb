{
 "cells": [
  {
   "cell_type": "markdown",
   "metadata": {},
   "source": [
    "## Introduction to the GLM"
   ]
  },
  {
   "cell_type": "markdown",
   "metadata": {},
   "source": [
    "Now that the data is clean we can perform analysis. Resting state analysis is completed in notebook 6. This is a review of the general linear model using data that was collected during a breathholding task. "
   ]
  },
  {
   "cell_type": "markdown",
   "metadata": {},
   "source": [
    "### Step 1: Ensure you have data from the breath-hold task downloaded to your local machine. \n",
    "    \n",
    "    #TODO: link to download, currently aws but Erin may move to datalad\n",
    "    \n",
    "### Step 2: We need to figure out the stimulus for the breath holding task. \n",
    "\n",
    "The description of this task is contained in `data/ds000030/task-bht_bold.json`. Read through this folder and determine if you can create an array of timings where the subject was and was not holding their breath."
   ]
  },
  {
   "cell_type": "code",
   "execution_count": 3,
   "metadata": {},
   "outputs": [
    {
     "name": "stdout",
     "output_type": "stream",
     "text": [
      "[ 13.5  44.   74.5 105.  135.5 166. ] [  1.   3.   5.   7.   9.  11.  13.  15.  17.  19.  21.  23.  25.  27.\n",
      "  29.  31.  33.  35.  37.  39.  41.  43.  45.  47.  49.  51.  53.  55.\n",
      "  57.  59.  61.  63.  65.  67.  69.  71.  73.  75.  77.  79.  81.  83.\n",
      "  85.  87.  89.  91.  93.  95.  97.  99. 101. 103. 105. 107. 109. 111.\n",
      " 113. 115. 117. 119. 121. 123. 125. 127. 129. 131. 133. 135. 137. 139.\n",
      " 141. 143. 145. 147. 149. 151. 153. 155. 157. 159. 161. 163. 165.]\n"
     ]
    },
    {
     "name": "stderr",
     "output_type": "stream",
     "text": [
      "/Users/oliviastanley/miniconda3/envs/conpcourse/lib/python3.6/site-packages/ipykernel_launcher.py:11: DeprecationWarning: object of type <class 'float'> cannot be safely interpreted as an integer.\n",
      "  # This is added back by InteractiveShellApp.init_path()\n",
      "/Users/oliviastanley/miniconda3/envs/conpcourse/lib/python3.6/site-packages/ipykernel_launcher.py:13: DeprecationWarning: object of type <class 'float'> cannot be safely interpreted as an integer.\n",
      "  del sys.path[0]\n"
     ]
    }
   ],
   "source": [
    "%matplotlib inline\n",
    "import numpy as np\n",
    "import matplotlib.pyplot as plt\n",
    "\n",
    "TR = 2\n",
    "scan_length = 166\n",
    "\n",
    "act_length = 13.5\n",
    "rest_length = 13.5\n",
    "n_blocks = scan_length/(act_length + rest_length)\n",
    "onsets = np.linspace(13.5, n_blocks*(act_length + rest_length), n_blocks)\n",
    "\n",
    "volumes = np.linspace(1, scan_length-1, scan_length/TR) \n",
    "\n",
    "print(onsets, volumes)\n"
   ]
  },
  {
   "cell_type": "markdown",
   "metadata": {},
   "source": [
    "### Step 3: Now that we know what stimulus was used we need to convolve it with a hemodynamic response function. \n",
    "\n",
    "This can be done using using the nitime.fmri.hrf function. \n",
    "\n",
    "    #TODO: Full guide"
   ]
  },
  {
   "cell_type": "code",
   "execution_count": null,
   "metadata": {},
   "outputs": [],
   "source": []
  },
  {
   "cell_type": "markdown",
   "metadata": {},
   "source": [
    "### Step 4: Now we can fit our model of what task was acquired to our input data\n",
    "\n",
    "This can be done using the permuted ols function from nilearn. We can also include motion confounds as before simulataneously in order to remove them during fitting opposed to cleaning the data. This is the standard for task based data."
   ]
  },
  {
   "cell_type": "code",
   "execution_count": null,
   "metadata": {},
   "outputs": [],
   "source": []
  },
  {
   "cell_type": "markdown",
   "metadata": {},
   "source": [
    "### Step 5: Visualizing fit results\n",
    "\n",
    "Now to visualize the results of our fit. Lets look at a plot of the most active voxel and a show an image of estimates beta weights."
   ]
  },
  {
   "cell_type": "code",
   "execution_count": null,
   "metadata": {},
   "outputs": [],
   "source": []
  },
  {
   "cell_type": "markdown",
   "metadata": {},
   "source": [
    "We can also look at the residuals across space and time. These can show issues such as motion or physiology contamination."
   ]
  },
  {
   "cell_type": "code",
   "execution_count": null,
   "metadata": {},
   "outputs": [],
   "source": []
  },
  {
   "cell_type": "markdown",
   "metadata": {},
   "source": [
    "### Step 6: Improving our fit with pre-whitening\n",
    "\n",
    "The OLS fit we ran before did not take into account the covariance of our data. "
   ]
  },
  {
   "cell_type": "code",
   "execution_count": null,
   "metadata": {},
   "outputs": [],
   "source": []
  },
  {
   "cell_type": "markdown",
   "metadata": {},
   "source": [
    "### Step 7: Wrapping up and Final Thoughts"
   ]
  },
  {
   "cell_type": "code",
   "execution_count": null,
   "metadata": {},
   "outputs": [],
   "source": []
  }
 ],
 "metadata": {
  "kernelspec": {
   "display_name": "Python 3",
   "language": "python",
   "name": "python3"
  },
  "language_info": {
   "codemirror_mode": {
    "name": "ipython",
    "version": 3
   },
   "file_extension": ".py",
   "mimetype": "text/x-python",
   "name": "python",
   "nbconvert_exporter": "python",
   "pygments_lexer": "ipython3",
   "version": "3.6.8"
  }
 },
 "nbformat": 4,
 "nbformat_minor": 2
}
